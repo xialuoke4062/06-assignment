{
 "cells": [
  {
   "cell_type": "markdown",
   "metadata": {},
   "source": [
    "## QTM 350: Data Science Computing\n",
    "\n",
    "### Assignment 06 - AI-Assisted Programming\n",
    "\n",
    "### Due 05 March 2025"
   ]
  },
  {
   "cell_type": "markdown",
   "metadata": {},
   "source": [
    "### Instructions\n",
    "\n",
    "In this assignment, you will use AI tools to help you generate, refactor, and explain code. Ideally, use GitHub Copilot, but if you cannot install the software, feel free to use other available tools (free or otherwise). Please name the tools you use in your assignment.\n",
    "\n",
    "The main idea is to use natural language as much as possible, whilst remaining attentive to any mistakes the AI tool may produce. Your code should run without issues and provide the correct results. Please feel free to include tests and screenshots.\n",
    "\n",
    "As always, should you have any questions, please let me know.\n",
    "\n",
    "### Tasks\n",
    "\n",
    "1. Use the `/explain` command in Copilot to get an explanation of the following code snippet:\n",
    "\n",
    "```python\n",
    "def fibonacci(n):\n",
    "    if n <= 0:\n",
    "        return []\n",
    "    elif n == 1:\n",
    "        return [0]\n",
    "    elif n == 2:\n",
    "        return [0, 1]\n",
    "    else:\n",
    "        fib = [0, 1]\n",
    "        for i in range(2, n):\n",
    "            fib.append(fib[i-1] + fib[i-2])\n",
    "        return fib\n",
    "```\n",
    "\n",
    "2. Create a new Git repository using GitHub CLI and Copilot suggestions. The suggestions should include code to initialise the repository, add a `README.md` and a `.gitignore` file for Python projects, then add, commit, and push the changes to the repository. Please include the link to your repository below.\n",
    "\n",
    "3. Use Copilot to refactor the following code to improve its efficiency and readability:\n",
    "\n",
    "```python\n",
    "def is_prime(num):\n",
    "    if num <= 1:\n",
    "        return False\n",
    "    for i in range(2, num):\n",
    "        if num % i == 0:\n",
    "            return False\n",
    "    return True\n",
    "\n",
    "primes = []\n",
    "for i in range(1, 101):\n",
    "    if is_prime(i):\n",
    "        primes.append(i)\n",
    "\n",
    "print(primes)\n",
    "```\n",
    "\n",
    "4. Use the `@terminal` command to generate CLI commands that create a new directory named `data_analysis`, navigate into the directory, create a new Python file called `analysis.py`, and add a shebang line (`#!/usr/bin/env python`) at the top of the file.\n",
    "\n",
    "5. Write a Python function that calculates the factorial of a number. Deliberately introduce an error in the function, then use Copilot's `/fix` command to identify and correct the issue.\n",
    "\n",
    "6. Use Copilot to generate documentation comments for the following `R` factorial function:\n",
    "\n",
    "```r\n",
    "calculate_factorial <- function(n) {\n",
    "  if (n == 0) {\n",
    "    return(1)\n",
    "  } else {\n",
    "    return(n * calculate_factorial(n - 1))\n",
    "  }\n",
    "}\n",
    "```\n",
    "\n",
    "7. Use the `/explain` command to get an explanation for the following Python code snippet:\n",
    "\n",
    "```python\n",
    "def normalize_data(data):\n",
    "    min_val = min(data)\n",
    "    max_val = max(data)\n",
    "    return [(x - min_val) / (max_val - min_val) for x in data]\n",
    "```\n",
    "\n",
    "8. Ask Copilot to translate the following `R` code to `Python`:\n",
    "\n",
    "```r\n",
    "library(tidyverse)\n",
    "\n",
    "# Create a sample dataframe with missing values\n",
    "df <- tibble(\n",
    "  A = c(1, 2, NA, 4, 5),\n",
    "  B = c(NA, 2, 3, 4, 5),\n",
    "  C = c(1, 2, 3, NA, 5),\n",
    "  D = c(1, 2, 3, 4, 5)\n",
    ")\n",
    "\n",
    "# Define the function\n",
    "count_missing_values <- function(df) {\n",
    "  sapply(df, function(col) sum(is.na(col)))\n",
    "}\n",
    "\n",
    "# Test the function\n",
    "result <- count_missing_values(df)\n",
    "print(result)\n",
    "```\n",
    "\n",
    "9. Write a function in both `R` and `Python` that takes a string and returns the number of vowels in the string.\n",
    "\n",
    "10. Ask Copilot to translate the following binary code into text:\n",
    "\n",
    "```verbatim\n",
    "01011001 01101111 01110101 00100111 01110110 01100101 00100000 01100011 01101111 01101101 01110000 01101100 01100101 01110100 01100101 01100100 00100000 01110100 01101000 01100101 00100000 01100001 01110011 01110011 01101001 01100111 01101110 01101101 01100101 01101110 01110100 00101110 00100000 01000011 01101111 01101110 01100111 01110010 01100001 01110100 01110101 01101100 01100001 01110100 01101001 01101111 01101110 01110011 00100001\n",
    "```\n",
    "\n"
   ]
  },
  {
   "cell_type": "markdown",
   "metadata": {},
   "source": [
    "### Q1: Explanation of Fibonacci Code\n",
    "\n",
    "Using `/explain` Copilot command, the provided Fibonacci function is interpreted as follows:\n",
    "\n",
    "- For n <= 0: returns an empty list\n",
    "- For n == 1: returns [0]\n",
    "- For n == 2: returns [0, 1]\n",
    "- Otherwise, iteratively computes the sequence by summing the two previous numbers."
   ]
  },
  {
   "cell_type": "code",
   "execution_count": null,
   "metadata": {},
   "outputs": [],
   "source": [
    "# Q2: Initialize Git repository with GitHub CLI\n",
    "!gh repo create my-assignment-repo --public --confirm\n",
    "!echo '# My Assignment Repo' > README.md\n",
    "!curl -L https://raw.githubusercontent.com/github/gitignore/main/Python.gitignore -o .gitignore\n",
    "!git init\n",
    "!git add .\n",
    "!git commit -m 'Initial commit'\n",
    "!git branch -M main\n",
    "!git remote add origin https://github.com/yourusername/my-assignment-repo.git\n",
    "!git push -u origin main\n",
    "\n",
    "# Repository link: https://github.com/yourusername/my-assignment-repo"
   ]
  },
  {
   "cell_type": "code",
   "execution_count": null,
   "metadata": {},
   "outputs": [],
   "source": [
    "# Q3: Refactored is_prime function and prime number collection\n",
    "import math\n",
    "\n",
    "def is_prime(num):\n",
    "    if num <= 1:\n",
    "        return False\n",
    "    if num == 2:\n",
    "        return True\n",
    "    if num % 2 == 0:\n",
    "        return False\n",
    "    for i in range(3, int(math.sqrt(num)) + 1, 2):\n",
    "        if num % i == 0:\n",
    "            return False\n",
    "    return True\n",
    "\n",
    "primes = [i for i in range(1, 101) if is_prime(i)]\n",
    "print(primes)"
   ]
  },
  {
   "cell_type": "code",
   "execution_count": null,
   "metadata": {},
   "outputs": [],
   "source": [
    "# Q4: Create new directory 'data_analysis' and file 'analysis.py' with shebang using terminal commands\n",
    "%%bash\n",
    "mkdir data_analysis\n",
    "cd data_analysis\n",
    "echo '#!/usr/bin/env python' > analysis.py\n",
    "chmod +x analysis.py\n",
    "echo 'Created analysis.py with shebang.'"
   ]
  },
  {
   "cell_type": "code",
   "execution_count": null,
   "metadata": {},
   "outputs": [],
   "source": [
    "# Q5: Factorial function with an error then fixed\n",
    "def factorial(n):\n",
    "    # Deliberate error: incorrect base case (should be n == 0)\n",
    "    if n == 1:\n",
    "        return 1\n",
    "    return n * factorial(n - 1)\n",
    "\n",
    "print(factorial(5))  # This may fail for n=0\n",
    "\n",
    "# /fix command applied: Corrected base case to handle n==0\n",
    "def factorial(n):\n",
    "    if n == 0:\n",
    "        return 1\n",
    "    return n * factorial(n - 1)\n",
    "\n",
    "print(factorial(5))"
   ]
  },
  {
   "cell_type": "code",
   "execution_count": null,
   "metadata": {
    "language": "r"
   },
   "outputs": [],
   "source": [
    "# Q6: R factorial function with documentation comments\n",
    "##' Calculate the factorial of a number\n",
    "##'\n",
    "##' @param n An integer\n",
    "##' @return The factorial of n\n",
    "##' @export\n",
    "calculate_factorial <- function(n) {\n",
    "  if (n == 0) {\n",
    "    return(1)\n",
    "  } else {\n",
    "    return(n * calculate_factorial(n - 1))\n",
    "  }\n",
    "}\n",
    "\n",
    "# Test the function\n",
    "result <- calculate_factorial(5)\n",
    "print(result)"
   ]
  },
  {
   "cell_type": "markdown",
   "metadata": {},
   "source": [
    "### Q7: Explanation of normalize_data function\n",
    "\n",
    "Using `/explain`, the function computes the minimum and maximum of the list, then normalizes each element to a 0–1 scale based on the min and max."
   ]
  },
  {
   "cell_type": "code",
   "execution_count": null,
   "metadata": {},
   "outputs": [],
   "source": [
    "# Q8: Translation of R code to Python\n",
    "import pandas as pd\n",
    "import numpy as np\n",
    "\n",
    "# Create a sample dataframe with missing values\n",
    "df = pd.DataFrame({\n",
    "    'A': [1, 2, np.nan, 4, 5],\n",
    "    'B': [np.nan, 2, 3, 4, 5],\n",
    "    'C': [1, 2, 3, np.nan, 5],\n",
    "    'D': [1, 2, 3, 4, 5]\n",
    "})\n",
    "\n",
    "def count_missing_values(df):\n",
    "    return df.isna().sum()\n",
    "\n",
    "result = count_missing_values(df)\n",
    "print(result)"
   ]
  },
  {
   "cell_type": "code",
   "execution_count": null,
   "metadata": {},
   "outputs": [],
   "source": [
    "# Q9a: Python function to count vowels in a string\n",
    "def count_vowels(s):\n",
    "    vowels = 'aeiouAEIOU'\n",
    "    return sum(1 for char in s if char in vowels)\n",
    "\n",
    "print(count_vowels('Hello World'))"
   ]
  },
  {
   "cell_type": "code",
   "execution_count": null,
   "metadata": {
    "language": "r"
   },
   "outputs": [],
   "source": [
    "# Q9b: R function to count vowels in a string\n",
    "count_vowels <- function(s) {\n",
    "  vowels <- unlist(strsplit('aeiouAEIOU', ''))\n",
    "  chars <- unlist(strsplit(s, ''))\n",
    "  sum(chars %in% vowels)\n",
    "}\n",
    "\n",
    "print(count_vowels('Hello World'))"
   ]
  },
  {
   "cell_type": "markdown",
   "metadata": {},
   "source": [
    "### Q10: Translation of binary code into text\n",
    "\n",
    "Using `/explain`, the binary code translates to:\n",
    "\n",
    "\"You've completed the assignment. Congratulations!\""
   ]
  }
 ],
 "metadata": {
  "kernelspec": {
   "display_name": "base",
   "language": "python",
   "name": "python3"
  },
  "language_info": {
   "codemirror_mode": {
    "name": "ipython",
    "version": 3
   },
   "file_extension": ".py",
   "mimetype": "text/x-python",
   "name": "python",
   "nbconvert_exporter": "python",
   "pygments_lexer": "ipython3",
   "version": "3.12.2"
  }
 },
 "nbformat": 4,
 "nbformat_minor": 2
}
